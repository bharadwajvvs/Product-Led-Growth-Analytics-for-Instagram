{
 "cells": [
  {
   "cell_type": "code",
   "execution_count": 1,
   "id": "initial_id",
   "metadata": {
    "collapsed": true,
    "ExecuteTime": {
     "end_time": "2024-08-14T02:12:23.583945Z",
     "start_time": "2024-08-14T02:12:23.281143Z"
    }
   },
   "outputs": [],
   "source": [
    "import pandas as pd\n",
    "import numpy as np"
   ]
  },
  {
   "cell_type": "code",
   "outputs": [
    {
     "data": {
      "text/plain": "   user_id signup_date  age  gender   location  daily_active_users  \\\n0        1  2023-11-24   42    Male  Australia                  22   \n1        2  2022-07-17   55  Female         UK                   9   \n2        3  2023-09-05   42    Male  Australia                  30   \n3        4  2024-01-18   23  Female      Japan                  28   \n4        5  2023-04-25   54    Male     Canada                  16   \n\n   content_views  likes_given  comments_made  shares  ...  \\\n0            434          288            106     195  ...   \n1            704          158            118     137  ...   \n2           2469          412             55     221  ...   \n3            997          105            106     432  ...   \n4           2209          412            133     117  ...   \n\n                                   topic_preferences  \\\n0                                           ['Tech']   \n1         ['Music', 'Movies', 'Fashion', 'Politics']   \n2                                           ['Food']   \n3  ['Art', 'Health', 'Gaming', 'Business', 'Polit...   \n4  ['Politics', 'Science', 'Travel', 'Fitness', '...   \n\n   sponsored_content_engagement  churned  returning_user  viral_invites_sent  \\\n0                             6     True            True                   5   \n1                            22     True           False                   9   \n2                            28    False            True                   0   \n3                            30     True            True                   7   \n4                            10     True           False                   1   \n\n   time_to_first_post  time_to_first_story  test_group  conversion_rate  \\\n0                20.4                  0.8   Variant B             0.03   \n1                15.8                 11.3   Variant A             0.20   \n2                26.9                 23.3   Variant A             0.19   \n3                19.1                 28.3   Variant B             0.18   \n4                14.6                 24.6     Control             0.19   \n\n   engagement_increase  \n0                -0.07  \n1                 0.38  \n2                 0.38  \n3                 0.48  \n4                 0.28  \n\n[5 rows x 42 columns]",
      "text/html": "<div>\n<style scoped>\n    .dataframe tbody tr th:only-of-type {\n        vertical-align: middle;\n    }\n\n    .dataframe tbody tr th {\n        vertical-align: top;\n    }\n\n    .dataframe thead th {\n        text-align: right;\n    }\n</style>\n<table border=\"1\" class=\"dataframe\">\n  <thead>\n    <tr style=\"text-align: right;\">\n      <th></th>\n      <th>user_id</th>\n      <th>signup_date</th>\n      <th>age</th>\n      <th>gender</th>\n      <th>location</th>\n      <th>daily_active_users</th>\n      <th>content_views</th>\n      <th>likes_given</th>\n      <th>comments_made</th>\n      <th>shares</th>\n      <th>...</th>\n      <th>topic_preferences</th>\n      <th>sponsored_content_engagement</th>\n      <th>churned</th>\n      <th>returning_user</th>\n      <th>viral_invites_sent</th>\n      <th>time_to_first_post</th>\n      <th>time_to_first_story</th>\n      <th>test_group</th>\n      <th>conversion_rate</th>\n      <th>engagement_increase</th>\n    </tr>\n  </thead>\n  <tbody>\n    <tr>\n      <th>0</th>\n      <td>1</td>\n      <td>2023-11-24</td>\n      <td>42</td>\n      <td>Male</td>\n      <td>Australia</td>\n      <td>22</td>\n      <td>434</td>\n      <td>288</td>\n      <td>106</td>\n      <td>195</td>\n      <td>...</td>\n      <td>['Tech']</td>\n      <td>6</td>\n      <td>True</td>\n      <td>True</td>\n      <td>5</td>\n      <td>20.4</td>\n      <td>0.8</td>\n      <td>Variant B</td>\n      <td>0.03</td>\n      <td>-0.07</td>\n    </tr>\n    <tr>\n      <th>1</th>\n      <td>2</td>\n      <td>2022-07-17</td>\n      <td>55</td>\n      <td>Female</td>\n      <td>UK</td>\n      <td>9</td>\n      <td>704</td>\n      <td>158</td>\n      <td>118</td>\n      <td>137</td>\n      <td>...</td>\n      <td>['Music', 'Movies', 'Fashion', 'Politics']</td>\n      <td>22</td>\n      <td>True</td>\n      <td>False</td>\n      <td>9</td>\n      <td>15.8</td>\n      <td>11.3</td>\n      <td>Variant A</td>\n      <td>0.20</td>\n      <td>0.38</td>\n    </tr>\n    <tr>\n      <th>2</th>\n      <td>3</td>\n      <td>2023-09-05</td>\n      <td>42</td>\n      <td>Male</td>\n      <td>Australia</td>\n      <td>30</td>\n      <td>2469</td>\n      <td>412</td>\n      <td>55</td>\n      <td>221</td>\n      <td>...</td>\n      <td>['Food']</td>\n      <td>28</td>\n      <td>False</td>\n      <td>True</td>\n      <td>0</td>\n      <td>26.9</td>\n      <td>23.3</td>\n      <td>Variant A</td>\n      <td>0.19</td>\n      <td>0.38</td>\n    </tr>\n    <tr>\n      <th>3</th>\n      <td>4</td>\n      <td>2024-01-18</td>\n      <td>23</td>\n      <td>Female</td>\n      <td>Japan</td>\n      <td>28</td>\n      <td>997</td>\n      <td>105</td>\n      <td>106</td>\n      <td>432</td>\n      <td>...</td>\n      <td>['Art', 'Health', 'Gaming', 'Business', 'Polit...</td>\n      <td>30</td>\n      <td>True</td>\n      <td>True</td>\n      <td>7</td>\n      <td>19.1</td>\n      <td>28.3</td>\n      <td>Variant B</td>\n      <td>0.18</td>\n      <td>0.48</td>\n    </tr>\n    <tr>\n      <th>4</th>\n      <td>5</td>\n      <td>2023-04-25</td>\n      <td>54</td>\n      <td>Male</td>\n      <td>Canada</td>\n      <td>16</td>\n      <td>2209</td>\n      <td>412</td>\n      <td>133</td>\n      <td>117</td>\n      <td>...</td>\n      <td>['Politics', 'Science', 'Travel', 'Fitness', '...</td>\n      <td>10</td>\n      <td>True</td>\n      <td>False</td>\n      <td>1</td>\n      <td>14.6</td>\n      <td>24.6</td>\n      <td>Control</td>\n      <td>0.19</td>\n      <td>0.28</td>\n    </tr>\n  </tbody>\n</table>\n<p>5 rows × 42 columns</p>\n</div>"
     },
     "execution_count": 2,
     "metadata": {},
     "output_type": "execute_result"
    }
   ],
   "source": [
    "data = pd.read_csv('synthetic_instagram_plg_data.csv')\n",
    "data.head()"
   ],
   "metadata": {
    "collapsed": false,
    "ExecuteTime": {
     "end_time": "2024-08-14T02:12:24.454466Z",
     "start_time": "2024-08-14T02:12:24.208515Z"
    }
   },
   "id": "821e791cbf8b8804",
   "execution_count": 2
  },
  {
   "cell_type": "markdown",
   "source": [
    "### Data Transformation"
   ],
   "metadata": {
    "collapsed": false
   },
   "id": "a76db2d0352159f6"
  },
  {
   "cell_type": "code",
   "outputs": [
    {
     "data": {
      "text/plain": "user_id                                      int64\nsignup_date                                 object\nage                                          int64\ngender                                      object\nlocation                                    object\ndaily_active_users                           int64\ncontent_views                                int64\nlikes_given                                  int64\ncomments_made                                int64\nshares                                       int64\ndirect_messages_sent                         int64\nposts_created                                int64\nstories_created                              int64\nreels_created                                int64\nfollowers_count                              int64\nfollowing_count                              int64\nuses_explore                                  bool\nuses_shopping                                 bool\nuses_igtv                                     bool\nuses_reels                                    bool\nuses_stories                                  bool\nstory_views                                  int64\nreel_views                                   int64\nin_app_purchases                           float64\nads_clicked                                  int64\nads_viewed                                   int64\nin-app_message                                bool\nposts_viewed                                 int64\nposts_you_re_not_interested_in               int64\nsuggested_accounts_viewed                    int64\nvideos_watched                               int64\napps_and_websites_type_off_of_instagram     object\ntopic_preferences                           object\nsponsored_content_engagement                 int64\nchurned                                       bool\nreturning_user                                bool\nviral_invites_sent                           int64\ntime_to_first_post                         float64\ntime_to_first_story                        float64\ntest_group                                  object\nconversion_rate                            float64\nengagement_increase                        float64\ndtype: object"
     },
     "execution_count": 3,
     "metadata": {},
     "output_type": "execute_result"
    }
   ],
   "source": [
    "data.dtypes"
   ],
   "metadata": {
    "collapsed": false,
    "ExecuteTime": {
     "end_time": "2024-08-14T02:12:26.089851Z",
     "start_time": "2024-08-14T02:12:26.080246Z"
    }
   },
   "id": "2327b486d0c79045",
   "execution_count": 3
  },
  {
   "cell_type": "code",
   "outputs": [],
   "source": [
    "typeChange_columns = []\n",
    "for i in data.columns:\n",
    "    if data[i].dtype == object:\n",
    "        typeChange_columns.append(i)"
   ],
   "metadata": {
    "collapsed": false,
    "ExecuteTime": {
     "end_time": "2024-08-14T02:12:27.036382Z",
     "start_time": "2024-08-14T02:12:27.031254Z"
    }
   },
   "id": "1cead35307cb6cfe",
   "execution_count": 4
  },
  {
   "cell_type": "code",
   "outputs": [
    {
     "data": {
      "text/plain": "['signup_date',\n 'gender',\n 'location',\n 'apps_and_websites_type_off_of_instagram',\n 'topic_preferences',\n 'test_group']"
     },
     "execution_count": 5,
     "metadata": {},
     "output_type": "execute_result"
    }
   ],
   "source": [
    "typeChange_columns"
   ],
   "metadata": {
    "collapsed": false,
    "ExecuteTime": {
     "end_time": "2024-08-14T02:12:28.319110Z",
     "start_time": "2024-08-14T02:12:28.312318Z"
    }
   },
   "id": "a452be5ce4f545a2",
   "execution_count": 5
  },
  {
   "cell_type": "code",
   "outputs": [],
   "source": [
    "data['signup_date'] = pd.to_datetime(data['signup_date'])"
   ],
   "metadata": {
    "collapsed": false,
    "ExecuteTime": {
     "end_time": "2024-08-14T02:12:28.987357Z",
     "start_time": "2024-08-14T02:12:28.981052Z"
    }
   },
   "id": "b4bf868d3578fb5b",
   "execution_count": 6
  },
  {
   "cell_type": "code",
   "outputs": [],
   "source": [
    "data['gender'] = pd.Categorical(data['gender'])"
   ],
   "metadata": {
    "collapsed": false,
    "ExecuteTime": {
     "end_time": "2024-08-14T02:12:29.423950Z",
     "start_time": "2024-08-14T02:12:29.417486Z"
    }
   },
   "id": "8b60c24e1229fb97",
   "execution_count": 7
  },
  {
   "cell_type": "code",
   "outputs": [],
   "source": [
    "data['location'] = pd.Categorical(data['location'])"
   ],
   "metadata": {
    "collapsed": false,
    "ExecuteTime": {
     "end_time": "2024-08-14T02:12:29.890368Z",
     "start_time": "2024-08-14T02:12:29.882238Z"
    }
   },
   "id": "c6b49cfee80581ed",
   "execution_count": 8
  },
  {
   "cell_type": "code",
   "outputs": [],
   "source": [
    "data['apps_and_websites_type_off_of_instagram'] = pd.Categorical(data['apps_and_websites_type_off_of_instagram'])"
   ],
   "metadata": {
    "collapsed": false,
    "ExecuteTime": {
     "end_time": "2024-08-14T02:12:30.454016Z",
     "start_time": "2024-08-14T02:12:30.447801Z"
    }
   },
   "id": "d5280804d231623d",
   "execution_count": 9
  },
  {
   "cell_type": "code",
   "outputs": [],
   "source": [
    "data['topic_preferences'] = data['topic_preferences'].tolist()"
   ],
   "metadata": {
    "collapsed": false,
    "ExecuteTime": {
     "end_time": "2024-08-14T02:12:30.922821Z",
     "start_time": "2024-08-14T02:12:30.919535Z"
    }
   },
   "id": "a16da955b0129127",
   "execution_count": 10
  },
  {
   "cell_type": "code",
   "outputs": [],
   "source": [
    "data['test_group'] = pd.Categorical(data['test_group'])"
   ],
   "metadata": {
    "collapsed": false,
    "ExecuteTime": {
     "end_time": "2024-08-14T02:12:31.533785Z",
     "start_time": "2024-08-14T02:12:31.526018Z"
    }
   },
   "id": "40b84f1e29bbd4de",
   "execution_count": 11
  },
  {
   "cell_type": "code",
   "outputs": [
    {
     "data": {
      "text/plain": "user_id                                    0\nsignup_date                                0\nage                                        0\ngender                                     0\nlocation                                   0\ndaily_active_users                         0\ncontent_views                              0\nlikes_given                                0\ncomments_made                              0\nshares                                     0\ndirect_messages_sent                       0\nposts_created                              0\nstories_created                            0\nreels_created                              0\nfollowers_count                            0\nfollowing_count                            0\nuses_explore                               0\nuses_shopping                              0\nuses_igtv                                  0\nuses_reels                                 0\nuses_stories                               0\nstory_views                                0\nreel_views                                 0\nin_app_purchases                           0\nads_clicked                                0\nads_viewed                                 0\nin-app_message                             0\nposts_viewed                               0\nposts_you_re_not_interested_in             0\nsuggested_accounts_viewed                  0\nvideos_watched                             0\napps_and_websites_type_off_of_instagram    0\ntopic_preferences                          0\nsponsored_content_engagement               0\nchurned                                    0\nreturning_user                             0\nviral_invites_sent                         0\ntime_to_first_post                         0\ntime_to_first_story                        0\ntest_group                                 0\nconversion_rate                            0\nengagement_increase                        0\ndtype: int64"
     },
     "execution_count": 12,
     "metadata": {},
     "output_type": "execute_result"
    }
   ],
   "source": [
    "data.isna().sum()"
   ],
   "metadata": {
    "collapsed": false,
    "ExecuteTime": {
     "end_time": "2024-08-14T02:12:32.172345Z",
     "start_time": "2024-08-14T02:12:32.161903Z"
    }
   },
   "id": "57b9e8083d72fa36",
   "execution_count": 12
  },
  {
   "cell_type": "code",
   "outputs": [
    {
     "data": {
      "text/plain": "   user_id signup_date  age  gender   location  daily_active_users  \\\n0        1  2023-11-24   42    Male  Australia                  22   \n1        2  2022-07-17   55  Female         UK                   9   \n2        3  2023-09-05   42    Male  Australia                  30   \n3        4  2024-01-18   23  Female      Japan                  28   \n4        5  2023-04-25   54    Male     Canada                  16   \n\n   content_views  likes_given  comments_made  shares  ...  churned  \\\n0            434          288            106     195  ...     True   \n1            704          158            118     137  ...     True   \n2           2469          412             55     221  ...    False   \n3            997          105            106     432  ...     True   \n4           2209          412            133     117  ...     True   \n\n   returning_user  viral_invites_sent  time_to_first_post  \\\n0            True                   5                20.4   \n1           False                   9                15.8   \n2            True                   0                26.9   \n3            True                   7                19.1   \n4           False                   1                14.6   \n\n   time_to_first_story  test_group  conversion_rate  engagement_increase  \\\n0                  0.8   Variant B             0.03                -0.07   \n1                 11.3   Variant A             0.20                 0.38   \n2                 23.3   Variant A             0.19                 0.38   \n3                 28.3   Variant B             0.18                 0.48   \n4                 24.6     Control             0.19                 0.28   \n\n   time_to_value  total_engagements  \n0            0.8               1029  \n1           11.3               1139  \n2           23.3               3185  \n3           28.3               1670  \n4           24.6               2881  \n\n[5 rows x 44 columns]",
      "text/html": "<div>\n<style scoped>\n    .dataframe tbody tr th:only-of-type {\n        vertical-align: middle;\n    }\n\n    .dataframe tbody tr th {\n        vertical-align: top;\n    }\n\n    .dataframe thead th {\n        text-align: right;\n    }\n</style>\n<table border=\"1\" class=\"dataframe\">\n  <thead>\n    <tr style=\"text-align: right;\">\n      <th></th>\n      <th>user_id</th>\n      <th>signup_date</th>\n      <th>age</th>\n      <th>gender</th>\n      <th>location</th>\n      <th>daily_active_users</th>\n      <th>content_views</th>\n      <th>likes_given</th>\n      <th>comments_made</th>\n      <th>shares</th>\n      <th>...</th>\n      <th>churned</th>\n      <th>returning_user</th>\n      <th>viral_invites_sent</th>\n      <th>time_to_first_post</th>\n      <th>time_to_first_story</th>\n      <th>test_group</th>\n      <th>conversion_rate</th>\n      <th>engagement_increase</th>\n      <th>time_to_value</th>\n      <th>total_engagements</th>\n    </tr>\n  </thead>\n  <tbody>\n    <tr>\n      <th>0</th>\n      <td>1</td>\n      <td>2023-11-24</td>\n      <td>42</td>\n      <td>Male</td>\n      <td>Australia</td>\n      <td>22</td>\n      <td>434</td>\n      <td>288</td>\n      <td>106</td>\n      <td>195</td>\n      <td>...</td>\n      <td>True</td>\n      <td>True</td>\n      <td>5</td>\n      <td>20.4</td>\n      <td>0.8</td>\n      <td>Variant B</td>\n      <td>0.03</td>\n      <td>-0.07</td>\n      <td>0.8</td>\n      <td>1029</td>\n    </tr>\n    <tr>\n      <th>1</th>\n      <td>2</td>\n      <td>2022-07-17</td>\n      <td>55</td>\n      <td>Female</td>\n      <td>UK</td>\n      <td>9</td>\n      <td>704</td>\n      <td>158</td>\n      <td>118</td>\n      <td>137</td>\n      <td>...</td>\n      <td>True</td>\n      <td>False</td>\n      <td>9</td>\n      <td>15.8</td>\n      <td>11.3</td>\n      <td>Variant A</td>\n      <td>0.20</td>\n      <td>0.38</td>\n      <td>11.3</td>\n      <td>1139</td>\n    </tr>\n    <tr>\n      <th>2</th>\n      <td>3</td>\n      <td>2023-09-05</td>\n      <td>42</td>\n      <td>Male</td>\n      <td>Australia</td>\n      <td>30</td>\n      <td>2469</td>\n      <td>412</td>\n      <td>55</td>\n      <td>221</td>\n      <td>...</td>\n      <td>False</td>\n      <td>True</td>\n      <td>0</td>\n      <td>26.9</td>\n      <td>23.3</td>\n      <td>Variant A</td>\n      <td>0.19</td>\n      <td>0.38</td>\n      <td>23.3</td>\n      <td>3185</td>\n    </tr>\n    <tr>\n      <th>3</th>\n      <td>4</td>\n      <td>2024-01-18</td>\n      <td>23</td>\n      <td>Female</td>\n      <td>Japan</td>\n      <td>28</td>\n      <td>997</td>\n      <td>105</td>\n      <td>106</td>\n      <td>432</td>\n      <td>...</td>\n      <td>True</td>\n      <td>True</td>\n      <td>7</td>\n      <td>19.1</td>\n      <td>28.3</td>\n      <td>Variant B</td>\n      <td>0.18</td>\n      <td>0.48</td>\n      <td>28.3</td>\n      <td>1670</td>\n    </tr>\n    <tr>\n      <th>4</th>\n      <td>5</td>\n      <td>2023-04-25</td>\n      <td>54</td>\n      <td>Male</td>\n      <td>Canada</td>\n      <td>16</td>\n      <td>2209</td>\n      <td>412</td>\n      <td>133</td>\n      <td>117</td>\n      <td>...</td>\n      <td>True</td>\n      <td>False</td>\n      <td>1</td>\n      <td>14.6</td>\n      <td>24.6</td>\n      <td>Control</td>\n      <td>0.19</td>\n      <td>0.28</td>\n      <td>24.6</td>\n      <td>2881</td>\n    </tr>\n  </tbody>\n</table>\n<p>5 rows × 44 columns</p>\n</div>"
     },
     "execution_count": 66,
     "metadata": {},
     "output_type": "execute_result"
    }
   ],
   "source": [
    "data.head()"
   ],
   "metadata": {
    "collapsed": false,
    "ExecuteTime": {
     "end_time": "2024-08-14T02:57:20.415763Z",
     "start_time": "2024-08-14T02:57:20.404126Z"
    }
   },
   "id": "5f2b1cd7c1f1284c",
   "execution_count": 66
  },
  {
   "cell_type": "code",
   "outputs": [],
   "source": [
    "# adding PLG metrics to data as new columns\n",
    "#Time to Value\n",
    "data['time_to_value'] = data['time_to_first_story']\n"
   ],
   "metadata": {
    "collapsed": false,
    "ExecuteTime": {
     "end_time": "2024-08-14T02:12:43.473013Z",
     "start_time": "2024-08-14T02:12:43.464386Z"
    }
   },
   "id": "88f76807a601e9cf",
   "execution_count": 14
  },
  {
   "cell_type": "code",
   "outputs": [],
   "source": [
    "feature_usage_rates = {}\n",
    "for feature in ['uses_explore', 'uses_shopping', 'uses_igtv', 'uses_reels', 'uses_stories']:\n",
    "    feature_usage_rates[feature] = (data[feature] == True).sum()/len(data[feature])"
   ],
   "metadata": {
    "collapsed": false,
    "ExecuteTime": {
     "end_time": "2024-08-14T02:32:17.975354Z",
     "start_time": "2024-08-14T02:32:17.971361Z"
    }
   },
   "id": "8680c9da70a7df9f",
   "execution_count": 40
  },
  {
   "cell_type": "markdown",
   "source": [
    "## Product Adoption Rate"
   ],
   "metadata": {
    "collapsed": false
   },
   "id": "c870b1130cc32247"
  },
  {
   "cell_type": "code",
   "outputs": [
    {
     "data": {
      "text/plain": "{'uses_explore': np.float64(0.50234),\n 'uses_shopping': np.float64(0.49948),\n 'uses_igtv': np.float64(0.49648),\n 'uses_reels': np.float64(0.49656),\n 'uses_stories': np.float64(0.50266)}"
     },
     "execution_count": 41,
     "metadata": {},
     "output_type": "execute_result"
    }
   ],
   "source": [
    "feature_usage_rates"
   ],
   "metadata": {
    "collapsed": false,
    "ExecuteTime": {
     "end_time": "2024-08-14T02:32:19.650992Z",
     "start_time": "2024-08-14T02:32:19.647770Z"
    }
   },
   "id": "89b634e3e93a8cbf",
   "execution_count": 41
  },
  {
   "cell_type": "markdown",
   "source": [
    "So I could tell that stories and explore features increased product adoption"
   ],
   "metadata": {
    "collapsed": false
   },
   "id": "cb8f2d16eb29ef62"
  },
  {
   "cell_type": "markdown",
   "source": [
    "## Retention Rate"
   ],
   "metadata": {
    "collapsed": false
   },
   "id": "1e999496d13ae9f0"
  },
  {
   "cell_type": "code",
   "outputs": [],
   "source": [
    "retention_rates = {}\n",
    "for feature in ['returning_user', 'churned']:\n",
    "    retention_rates[feature] = (data[feature] == True).sum()/len(data[feature])"
   ],
   "metadata": {
    "collapsed": false,
    "ExecuteTime": {
     "end_time": "2024-08-14T02:32:26.875674Z",
     "start_time": "2024-08-14T02:32:26.870797Z"
    }
   },
   "id": "945aa5285b3f6c64",
   "execution_count": 42
  },
  {
   "cell_type": "code",
   "outputs": [
    {
     "data": {
      "text/plain": "{'returning_user': np.float64(0.49944), 'churned': np.float64(0.49827)}"
     },
     "execution_count": 43,
     "metadata": {},
     "output_type": "execute_result"
    }
   ],
   "source": [
    "retention_rates"
   ],
   "metadata": {
    "collapsed": false,
    "ExecuteTime": {
     "end_time": "2024-08-14T02:32:27.694672Z",
     "start_time": "2024-08-14T02:32:27.690123Z"
    }
   },
   "id": "52c0009f7edcfa81",
   "execution_count": 43
  },
  {
   "cell_type": "code",
   "outputs": [
    {
     "data": {
      "text/plain": "np.float64(0.5168513333333333)"
     },
     "execution_count": 50,
     "metadata": {},
     "output_type": "execute_result"
    }
   ],
   "source": [
    "(data['daily_active_users'].sum()/30)/len(data['daily_active_users'])"
   ],
   "metadata": {
    "collapsed": false,
    "ExecuteTime": {
     "end_time": "2024-08-14T02:36:57.237916Z",
     "start_time": "2024-08-14T02:36:57.230105Z"
    }
   },
   "id": "66a2986721334399",
   "execution_count": 50
  },
  {
   "cell_type": "markdown",
   "source": [
    "## so the retention rate is around 50-51% over a period of 30 days"
   ],
   "metadata": {
    "collapsed": false
   },
   "id": "45a1d1c6c7087eb"
  },
  {
   "cell_type": "markdown",
   "source": [
    "### Engagement per user"
   ],
   "metadata": {
    "collapsed": false
   },
   "id": "684d2f27547a7916"
  },
  {
   "cell_type": "code",
   "outputs": [
    {
     "data": {
      "text/plain": "         total_engagements  average_engagements\nuser_id                                        \n1                     1029               1029.0\n2                     1139               1139.0\n3                     3185               3185.0\n4                     1670               1670.0\n5                     2881               2881.0\n...                    ...                  ...\n99996                 1262               1262.0\n99997                 1428               1428.0\n99998                 2414               2414.0\n99999                  944                944.0\n100000                3285               3285.0\n\n[100000 rows x 2 columns]",
      "text/html": "<div>\n<style scoped>\n    .dataframe tbody tr th:only-of-type {\n        vertical-align: middle;\n    }\n\n    .dataframe tbody tr th {\n        vertical-align: top;\n    }\n\n    .dataframe thead th {\n        text-align: right;\n    }\n</style>\n<table border=\"1\" class=\"dataframe\">\n  <thead>\n    <tr style=\"text-align: right;\">\n      <th></th>\n      <th>total_engagements</th>\n      <th>average_engagements</th>\n    </tr>\n    <tr>\n      <th>user_id</th>\n      <th></th>\n      <th></th>\n    </tr>\n  </thead>\n  <tbody>\n    <tr>\n      <th>1</th>\n      <td>1029</td>\n      <td>1029.0</td>\n    </tr>\n    <tr>\n      <th>2</th>\n      <td>1139</td>\n      <td>1139.0</td>\n    </tr>\n    <tr>\n      <th>3</th>\n      <td>3185</td>\n      <td>3185.0</td>\n    </tr>\n    <tr>\n      <th>4</th>\n      <td>1670</td>\n      <td>1670.0</td>\n    </tr>\n    <tr>\n      <th>5</th>\n      <td>2881</td>\n      <td>2881.0</td>\n    </tr>\n    <tr>\n      <th>...</th>\n      <td>...</td>\n      <td>...</td>\n    </tr>\n    <tr>\n      <th>99996</th>\n      <td>1262</td>\n      <td>1262.0</td>\n    </tr>\n    <tr>\n      <th>99997</th>\n      <td>1428</td>\n      <td>1428.0</td>\n    </tr>\n    <tr>\n      <th>99998</th>\n      <td>2414</td>\n      <td>2414.0</td>\n    </tr>\n    <tr>\n      <th>99999</th>\n      <td>944</td>\n      <td>944.0</td>\n    </tr>\n    <tr>\n      <th>100000</th>\n      <td>3285</td>\n      <td>3285.0</td>\n    </tr>\n  </tbody>\n</table>\n<p>100000 rows × 2 columns</p>\n</div>"
     },
     "execution_count": 68,
     "metadata": {},
     "output_type": "execute_result"
    }
   ],
   "source": [
    "def calculate_engagements_per_user(data):\n",
    "  engagement_columns = ['content_views', 'likes_given', 'comments_made', 'shares', 'sponsored_content_engagement']\n",
    "\n",
    "  data['total_engagements'] = data[engagement_columns].sum(axis=1)\n",
    "\n",
    "  # Group by user and calculate aggregate and average engagements\n",
    "  user_engagements = data.groupby('user_id')[['total_engagements']].agg(['sum', 'mean'])\n",
    "  user_engagements.columns = ['total_engagements', 'average_engagements']\n",
    "\n",
    "  return user_engagements\n",
    "\n",
    "result = calculate_engagements_per_user(data)\n",
    "result"
   ],
   "metadata": {
    "collapsed": false,
    "ExecuteTime": {
     "end_time": "2024-08-14T03:00:48.407038Z",
     "start_time": "2024-08-14T03:00:48.372241Z"
    }
   },
   "id": "5e4c4d9512f56e2e",
   "execution_count": 68
  },
  {
   "cell_type": "markdown",
   "source": [
    "## CLTV"
   ],
   "metadata": {
    "collapsed": false
   },
   "id": "641850a785380df6"
  },
  {
   "cell_type": "code",
   "outputs": [
    {
     "data": {
      "text/plain": "user_id\n1          21.11\n2         425.21\n3         391.97\n4         301.97\n5         363.19\n           ...  \n99996     419.84\n99997     406.26\n99998     231.01\n99999      60.90\n100000     83.58\nName: CLTV, Length: 100000, dtype: float64"
     },
     "execution_count": 69,
     "metadata": {},
     "output_type": "execute_result"
    }
   ],
   "source": [
    "def calculate_total_revenue(data):\n",
    "  data['ad_revenue'] = data['ads_clicked'] * 0.40\n",
    "  # Calculate total revenue\n",
    "  data['CLTV'] = data['in_app_purchases'] + data['ad_revenue']\n",
    "\n",
    "  # Group by user and calculate total revenue\n",
    "  user_revenue = data.groupby('user_id')['CLTV'].sum()\n",
    "\n",
    "  return user_revenue\n",
    "\n",
    "result = calculate_total_revenue(data)\n",
    "result"
   ],
   "metadata": {
    "collapsed": false,
    "ExecuteTime": {
     "end_time": "2024-08-14T03:00:57.268851Z",
     "start_time": "2024-08-14T03:00:57.249625Z"
    }
   },
   "id": "473ff9e7eda710b9",
   "execution_count": 69
  },
  {
   "cell_type": "code",
   "outputs": [
    {
     "data": {
      "text/plain": "user_id                                             int64\nsignup_date                                datetime64[ns]\nage                                                 int64\ngender                                           category\nlocation                                         category\ndaily_active_users                                  int64\ncontent_views                                       int64\nlikes_given                                         int64\ncomments_made                                       int64\nshares                                              int64\ndirect_messages_sent                                int64\nposts_created                                       int64\nstories_created                                     int64\nreels_created                                       int64\nfollowers_count                                     int64\nfollowing_count                                     int64\nuses_explore                                         bool\nuses_shopping                                        bool\nuses_igtv                                            bool\nuses_reels                                           bool\nuses_stories                                         bool\nstory_views                                         int64\nreel_views                                          int64\nin_app_purchases                                  float64\nads_clicked                                         int64\nads_viewed                                          int64\nin-app_message                                       bool\nposts_viewed                                        int64\nposts_you_re_not_interested_in                      int64\nsuggested_accounts_viewed                           int64\nvideos_watched                                      int64\napps_and_websites_type_off_of_instagram          category\ntopic_preferences                                  object\nsponsored_content_engagement                        int64\nchurned                                              bool\nreturning_user                                       bool\nviral_invites_sent                                  int64\ntime_to_first_post                                float64\ntime_to_first_story                               float64\ntest_group                                       category\nconversion_rate                                   float64\nengagement_increase                               float64\ntime_to_value                                     float64\ntotal_engagements                                   int64\nad_revenue                                        float64\nCLTV                                              float64\ndtype: object"
     },
     "execution_count": 71,
     "metadata": {},
     "output_type": "execute_result"
    }
   ],
   "source": [
    "data.dtypes"
   ],
   "metadata": {
    "collapsed": false,
    "ExecuteTime": {
     "end_time": "2024-08-14T05:18:10.712165Z",
     "start_time": "2024-08-14T05:18:10.709265Z"
    }
   },
   "id": "cd063b96f925ca47",
   "execution_count": 71
  },
  {
   "cell_type": "code",
   "outputs": [],
   "source": [
    "data.to_csv('insta_clean_data.csv', index=False)"
   ],
   "metadata": {
    "collapsed": false,
    "ExecuteTime": {
     "end_time": "2024-08-14T05:23:18.525742Z",
     "start_time": "2024-08-14T05:23:17.585936Z"
    }
   },
   "id": "8cd466ebe5e8ab94",
   "execution_count": 72
  },
  {
   "cell_type": "code",
   "outputs": [],
   "source": [],
   "metadata": {
    "collapsed": false
   },
   "id": "45fea43cb18b11c9"
  }
 ],
 "metadata": {
  "kernelspec": {
   "display_name": "Python 3",
   "language": "python",
   "name": "python3"
  },
  "language_info": {
   "codemirror_mode": {
    "name": "ipython",
    "version": 2
   },
   "file_extension": ".py",
   "mimetype": "text/x-python",
   "name": "python",
   "nbconvert_exporter": "python",
   "pygments_lexer": "ipython2",
   "version": "2.7.6"
  }
 },
 "nbformat": 4,
 "nbformat_minor": 5
}
